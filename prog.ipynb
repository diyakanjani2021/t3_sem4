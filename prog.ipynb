{
 "cells": [
  {
   "cell_type": "code",
   "execution_count": 1,
   "metadata": {},
   "outputs": [],
   "source": [
    "from bs4 import BeautifulSoup\n",
    "import pandas as pd"
   ]
  },
  {
   "cell_type": "code",
   "execution_count": 2,
   "metadata": {},
   "outputs": [],
   "source": [
    "f=open('IPL Auction.html','r',encoding='utf-8')\n",
    "soup=BeautifulSoup(f.read())"
   ]
  },
  {
   "cell_type": "code",
   "execution_count": 4,
   "metadata": {},
   "outputs": [],
   "source": [
    "table=soup.findAll('table',class_='ih-td-tab auction-tbl')[1]"
   ]
  },
  {
   "cell_type": "code",
   "execution_count": 12,
   "metadata": {},
   "outputs": [
    {
     "name": "stdout",
     "output_type": "stream",
     "text": [
      "TEAM\n",
      "PLAYER\n",
      "TYPE \n",
      "PRICE\n",
      "Mumbai Indians\n",
      "\n",
      "\n",
      "Ishan Kishan\n",
      "Wicket Keeper\n",
      "₹15,25,00,000\n",
      "Chennai Super Kings\n",
      "\n",
      "\n",
      "Deepak Chahar\n",
      "Bowler\n",
      "₹14,00,00,000\n",
      "Kolkata Knight Riders\n",
      "\n",
      "\n",
      "Shreyas Iyer\n",
      "Batsman\n",
      "₹12,25,00,000\n",
      "Punjab Kings\n",
      "\n",
      "\n",
      "Liam Livingstone\n",
      "All-Rounder\n",
      "₹11,50,00,000\n",
      "Delhi Capitals\n",
      "\n",
      "\n",
      "Shardul Thakur\n",
      "Bowler\n",
      "₹10,75,00,000\n",
      "Royal Challengers Bangalore\n",
      "\n",
      "\n",
      "Harshal Patel\n",
      "All-Rounder\n",
      "₹10,75,00,000\n",
      "Royal Challengers Bangalore\n",
      "\n",
      "\n",
      "Wanindu Hasaranga\n",
      "All-Rounder\n",
      "₹10,75,00,000\n",
      "Sunrisers Hyderabad\n",
      "\n",
      "\n",
      "Nicholas Pooran\n",
      "Wicket Keeper\n",
      "₹10,75,00,000\n",
      "Gujarat Titans\n",
      "\n",
      "\n",
      "Lockie Ferguson\n",
      "Bowler\n",
      "₹10,00,00,000\n",
      "Lucknow Super Giants\n",
      "\n",
      "\n",
      "Avesh Khan\n",
      "Bowler\n",
      "₹10,00,00,000\n",
      "Rajasthan Royals\n",
      "\n",
      "\n",
      "Prasidh Krishna\n",
      "Bowler\n",
      "₹10,00,00,000\n"
     ]
    }
   ],
   "source": [
    "for i in range(len(table.findAll('tr'))):\n",
    "    print(table.findAll('tr')[i].text.strip())    "
   ]
  },
  {
   "cell_type": "code",
   "execution_count": 6,
   "metadata": {},
   "outputs": [
    {
     "data": {
      "text/plain": [
       "{'TEAM': [], 'PLAYER': [], 'TYPE ': [], 'PRICE': []}"
      ]
     },
     "execution_count": 6,
     "metadata": {},
     "output_type": "execute_result"
    }
   ],
   "source": [
    "d={}\n",
    "for i in range(len(table.findAll('tr'))):\n",
    "    if i==0:\n",
    "        for j in table.findAll('tr')[i].findAll('th'):\n",
    "            d[j.text]=[]\n",
    "    #print(table.findAll('tr')[i].text.strip())\n",
    "d    "
   ]
  },
  {
   "cell_type": "code",
   "execution_count": 11,
   "metadata": {},
   "outputs": [
    {
     "data": {
      "text/plain": [
       "{'TEAM': ['Mumbai Indians',\n",
       "  'Chennai Super Kings',\n",
       "  'Kolkata Knight Riders',\n",
       "  'Punjab Kings',\n",
       "  'Delhi Capitals',\n",
       "  'Royal Challengers Bangalore',\n",
       "  'Royal Challengers Bangalore',\n",
       "  'Sunrisers Hyderabad',\n",
       "  'Gujarat Titans',\n",
       "  'Lucknow Super Giants',\n",
       "  'Rajasthan Royals'],\n",
       " 'PLAYER': ['Ishan Kishan',\n",
       "  'Deepak Chahar',\n",
       "  'Shreyas Iyer',\n",
       "  'Liam Livingstone',\n",
       "  'Shardul Thakur',\n",
       "  'Harshal Patel',\n",
       "  'Wanindu Hasaranga',\n",
       "  'Nicholas Pooran',\n",
       "  'Lockie Ferguson',\n",
       "  'Avesh Khan',\n",
       "  'Prasidh Krishna'],\n",
       " 'TYPE ': ['Wicket Keeper',\n",
       "  'Bowler',\n",
       "  'Batsman',\n",
       "  'All-Rounder',\n",
       "  'Bowler',\n",
       "  'All-Rounder',\n",
       "  'All-Rounder',\n",
       "  'Wicket Keeper',\n",
       "  'Bowler',\n",
       "  'Bowler',\n",
       "  'Bowler'],\n",
       " 'PRICE': ['₹15,25,00,000',\n",
       "  '₹14,00,00,000',\n",
       "  '₹12,25,00,000',\n",
       "  '₹11,50,00,000',\n",
       "  '₹10,75,00,000',\n",
       "  '₹10,75,00,000',\n",
       "  '₹10,75,00,000',\n",
       "  '₹10,75,00,000',\n",
       "  '₹10,00,00,000',\n",
       "  '₹10,00,00,000',\n",
       "  '₹10,00,00,000']}"
      ]
     },
     "execution_count": 11,
     "metadata": {},
     "output_type": "execute_result"
    }
   ],
   "source": [
    "d={}\n",
    "for i in range(len(table.findAll('tr'))):\n",
    "    if i==0:\n",
    "        for j in table.findAll('tr')[i].findAll('th'):\n",
    "            d[j.text]=[]\n",
    "        continue\n",
    "    d['TEAM'].append(table.findAll('tr')[i].findAll('td')[0].text.strip())\n",
    "    d['PLAYER'].append(table.findAll('tr')[i].findAll('td')[1].text)\n",
    "    d['TYPE '].append(table.findAll('tr')[i].findAll('td')[2].text)\n",
    "    d['PRICE'].append(table.findAll('tr')[i].findAll('td')[3].text)\n",
    "d    "
   ]
  },
  {
   "cell_type": "code",
   "execution_count": 13,
   "metadata": {},
   "outputs": [
    {
     "ename": "ModuleNotFoundError",
     "evalue": "No module named 'tensorflow'",
     "output_type": "error",
     "traceback": [
      "\u001b[1;31m---------------------------------------------------------------------------\u001b[0m",
      "\u001b[1;31mModuleNotFoundError\u001b[0m                       Traceback (most recent call last)",
      "\u001b[1;32m<ipython-input-13-64156d691fe5>\u001b[0m in \u001b[0;36m<module>\u001b[1;34m\u001b[0m\n\u001b[1;32m----> 1\u001b[1;33m \u001b[1;32mimport\u001b[0m \u001b[0mtensorflow\u001b[0m \u001b[1;32mas\u001b[0m \u001b[0mtf\u001b[0m\u001b[1;33m\u001b[0m\u001b[1;33m\u001b[0m\u001b[0m\n\u001b[0m",
      "\u001b[1;31mModuleNotFoundError\u001b[0m: No module named 'tensorflow'"
     ]
    }
   ],
   "source": [
    "import tensorflow as tf"
   ]
  },
  {
   "cell_type": "code",
   "execution_count": null,
   "metadata": {},
   "outputs": [],
   "source": []
  }
 ],
 "metadata": {
  "kernelspec": {
   "display_name": "Python 3",
   "language": "python",
   "name": "python3"
  },
  "language_info": {
   "codemirror_mode": {
    "name": "ipython",
    "version": 3
   },
   "file_extension": ".py",
   "mimetype": "text/x-python",
   "name": "python",
   "nbconvert_exporter": "python",
   "pygments_lexer": "ipython3",
   "version": "3.8.5"
  }
 },
 "nbformat": 4,
 "nbformat_minor": 4
}
